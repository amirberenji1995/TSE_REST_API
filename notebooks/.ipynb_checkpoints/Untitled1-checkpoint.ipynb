{
 "cells": [
  {
   "cell_type": "code",
   "execution_count": null,
   "metadata": {},
   "outputs": [],
   "source": [
    "import sqlite3\n",
    "\n",
    "def list_of_symbols():\n",
    "    con = sqlite3.connect('tickers_data.db')\n",
    "    cursorObj = con.cursor()\n",
    "\n",
    "    cursorObj.execute('SELECT name from sqlite_master where type= \"table\"')\n",
    "    tables_list = cursorObj.fetchall()\n",
    "\n",
    "    tables_list_str = []\n",
    "    for item in tables_list:\n",
    "        tables_list_str.append(''.join(item))\n",
    "\n",
    "    return tables_list_str"
   ]
  }
 ],
 "metadata": {
  "kernelspec": {
   "display_name": "Python 3",
   "language": "python",
   "name": "python3"
  },
  "language_info": {
   "codemirror_mode": {
    "name": "ipython",
    "version": 3
   },
   "file_extension": ".py",
   "mimetype": "text/x-python",
   "name": "python",
   "nbconvert_exporter": "python",
   "pygments_lexer": "ipython3",
   "version": "3.6.9"
  }
 },
 "nbformat": 4,
 "nbformat_minor": 4
}
